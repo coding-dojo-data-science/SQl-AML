{
 "cells": [
  {
   "cell_type": "markdown",
   "metadata": {
    "id": "r5E8nt0jGE6s"
   },
   "source": [
    "# SQL Exercise"
   ]
  },
  {
   "cell_type": "markdown",
   "metadata": {
    "id": "AwyFKJDrs-k3"
   },
   "source": [
    "\n",
    "\n",
    "[SQLAlchemy](https://www.sqlalchemy.org/) is a wrapper for Python that allows us to write SQL queries in Python. We will use this to practice our SQL basics in Python.\n",
    "\n",
    "First, we need to connect to a database. We will just read a table into SQL for this step. We will be creating a [SQLite](https://sqlite.org/index.html) database and loading our [data](https://drive.google.com/file/d/18MgOmIHHafoubgp2d_7GM6GWroxb0vPe/view?usp=sharing) into that database."
   ]
  },
  {
   "cell_type": "code",
   "execution_count": 1,
   "metadata": {
    "id": "v9rTvcEDApP2"
   },
   "outputs": [],
   "source": [
    "# imports\n",
    "import pandas as pd\n",
    "from sqlalchemy import create_engine\n"
   ]
  },
  {
   "cell_type": "code",
   "execution_count": 2,
   "metadata": {
    "id": "kutvGwWcBEX5"
   },
   "outputs": [],
   "source": [
    "# Read the data in as a Pandas Dataframe\n",
    "school = pd.read_csv('https://docs.google.com/spreadsheets/d/e/2PACX-1vRtLDEwVA8XXd7-XHjvaU7zkMhlRlFjXExCXJZKdUpa6xrYpyaxUifltjgaN5wTFRA_bg_UXyFOB1p7/pub?gid=1976095986&single=true&output=csv')\n",
    "# load table 2'\n",
    "facility = pd.read_csv('https://docs.google.com/spreadsheets/d/e/2PACX-1vR5UNxWcE8ctwA8OFn2v0RmWfoIEUK_9dUqmXQCV3lbJwZ7JLjdDz6P3YbcFbCMHUxswF07RawZzX0V/pub?gid=601105917&single=true&output=csv')"
   ]
  },
  {
   "cell_type": "code",
   "execution_count": 3,
   "metadata": {
    "colab": {
     "base_uri": "https://localhost:8080/"
    },
    "id": "g8zQAMpWx8DW",
    "outputId": "0c260cec-02ec-4852-932d-6ffebb1ee636"
   },
   "outputs": [
    {
     "name": "stdout",
     "output_type": "stream",
     "text": [
      "<class 'pandas.core.frame.DataFrame'>\n",
      "RangeIndex: 1249 entries, 0 to 1248\n",
      "Data columns (total 30 columns):\n",
      " #   Column                      Non-Null Count  Dtype  \n",
      "---  ------                      --------------  -----  \n",
      " 0   DistrictName                1249 non-null   object \n",
      " 1   EstablishmentCode           1249 non-null   object \n",
      " 2   EstablishmentName           1249 non-null   object \n",
      " 3   BRCName                     1249 non-null   object \n",
      " 4   CRCName                     1249 non-null   object \n",
      " 5   SchoolLevel                 1246 non-null   object \n",
      " 6   ManagementName              1246 non-null   object \n",
      " 7   LocalityHabitation          1221 non-null   object \n",
      " 8   SubdivisionName             1241 non-null   object \n",
      " 9   ConstituencyName            1249 non-null   object \n",
      " 10  RevenueBlockName            1249 non-null   object \n",
      " 11  CivicBodyName               1249 non-null   object \n",
      " 12  WardName                    1249 non-null   object \n",
      " 13  PostOfficeName              1249 non-null   object \n",
      " 14  PhoneNo                     794 non-null    object \n",
      " 15  FaxNo                       20 non-null     object \n",
      " 16  EmailID                     182 non-null    object \n",
      " 17  Website                     24 non-null     object \n",
      " 18  LocatedInRuralOrUrban       1249 non-null   object \n",
      " 19  DiseCode                    439 non-null    object \n",
      " 20  EstablishedDate             1230 non-null   object \n",
      " 21  DistrictHQDistance (in Km)  1246 non-null   float64\n",
      " 22  CRCDistance (in Km)         1246 non-null   float64\n",
      " 23  BACDistance (in Km)         1246 non-null   float64\n",
      " 24  IsRecognized                1246 non-null   object \n",
      " 25  RecognizedBy                1004 non-null   object \n",
      " 26  ContactPersonName           0 non-null      float64\n",
      " 27  LowestClass                 1246 non-null   object \n",
      " 28  HighestClass                1246 non-null   object \n",
      " 29  BoardName                   784 non-null    object \n",
      "dtypes: float64(4), object(26)\n",
      "memory usage: 292.9+ KB\n"
     ]
    }
   ],
   "source": [
    "school.info()"
   ]
  },
  {
   "cell_type": "markdown",
   "metadata": {
    "id": "QYu2zOj8vlv_"
   },
   "source": [
    "### Create a SQLite Database"
   ]
  },
  {
   "cell_type": "code",
   "execution_count": 4,
   "metadata": {
    "id": "c0PCa_xzBLZR"
   },
   "outputs": [],
   "source": [
    "# create sqlite engine and create empty database name school\n",
    "engine = create_engine('sqlite:///school.db', echo=True)\n",
    "# create connection to engine\n",
    "conn = engine.connect()"
   ]
  },
  {
   "cell_type": "code",
   "execution_count": 5,
   "metadata": {
    "colab": {
     "base_uri": "https://localhost:8080/"
    },
    "id": "csETRMeSLDH8",
    "outputId": "0b635753-f121-4643-8c00-a12242b7f144"
   },
   "outputs": [
    {
     "name": "stdout",
     "output_type": "stream",
     "text": [
      "2023-07-17 11:12:30,314 INFO sqlalchemy.engine.Engine SELECT name FROM sqlite_master WHERE type='table' ORDER BY name\n",
      "2023-07-17 11:12:30,314 INFO sqlalchemy.engine.Engine [raw sql] ()\n",
      "['facilities', 'school_details', 'school_facility_details', 'schools']\n"
     ]
    },
    {
     "name": "stderr",
     "output_type": "stream",
     "text": [
      "/var/folders/td/cybzgn316hq8r5cn05lb0y2m0000gn/T/ipykernel_30786/1043810782.py:1: SADeprecationWarning: The Engine.table_names() method is deprecated and will be removed in a future release.  Please refer to Inspector.get_table_names(). (deprecated since: 1.4)\n",
      "  print(engine.table_names())\n"
     ]
    }
   ],
   "source": [
    "print(engine.table_names())"
   ]
  },
  {
   "cell_type": "code",
   "execution_count": 6,
   "metadata": {
    "colab": {
     "base_uri": "https://localhost:8080/"
    },
    "id": "JqOzqOa9BOVB",
    "outputId": "23ae0f27-e2d2-4f76-d68f-0b7f6d857921"
   },
   "outputs": [
    {
     "name": "stdout",
     "output_type": "stream",
     "text": [
      "2023-07-17 11:12:38,519 INFO sqlalchemy.engine.Engine PRAGMA main.table_info(\"school_details\")\n",
      "2023-07-17 11:12:38,520 INFO sqlalchemy.engine.Engine [raw sql] ()\n"
     ]
    },
    {
     "ename": "ValueError",
     "evalue": "Table 'school_details' already exists.",
     "output_type": "error",
     "traceback": [
      "\u001b[0;31m---------------------------------------------------------------------------\u001b[0m",
      "\u001b[0;31mValueError\u001b[0m                                Traceback (most recent call last)",
      "Input \u001b[0;32mIn [6]\u001b[0m, in \u001b[0;36m<cell line: 3>\u001b[0;34m()\u001b[0m\n\u001b[1;32m      1\u001b[0m \u001b[38;5;66;03m# add the dataframe as a table in sqlite\u001b[39;00m\n\u001b[1;32m      2\u001b[0m sqlite_table1 \u001b[38;5;241m=\u001b[39m \u001b[38;5;124m\"\u001b[39m\u001b[38;5;124mschool_details\u001b[39m\u001b[38;5;124m\"\u001b[39m\n\u001b[0;32m----> 3\u001b[0m \u001b[43mschool\u001b[49m\u001b[38;5;241;43m.\u001b[39;49m\u001b[43mto_sql\u001b[49m\u001b[43m(\u001b[49m\u001b[43msqlite_table1\u001b[49m\u001b[43m,\u001b[49m\u001b[43m \u001b[49m\u001b[43mconn\u001b[49m\u001b[43m,\u001b[49m\u001b[43m \u001b[49m\u001b[43mif_exists\u001b[49m\u001b[38;5;241;43m=\u001b[39;49m\u001b[38;5;124;43m'\u001b[39;49m\u001b[38;5;124;43mfail\u001b[39;49m\u001b[38;5;124;43m'\u001b[39;49m\u001b[43m)\u001b[49m\n\u001b[1;32m      5\u001b[0m sqlite_table2 \u001b[38;5;241m=\u001b[39m \u001b[38;5;124m\"\u001b[39m\u001b[38;5;124mschool_facility_details\u001b[39m\u001b[38;5;124m\"\u001b[39m\n\u001b[1;32m      6\u001b[0m facility\u001b[38;5;241m.\u001b[39mto_sql(sqlite_table2, conn, if_exists\u001b[38;5;241m=\u001b[39m\u001b[38;5;124m'\u001b[39m\u001b[38;5;124mfail\u001b[39m\u001b[38;5;124m'\u001b[39m)\n",
      "File \u001b[0;32m/opt/homebrew/Caskroom/miniforge/base/envs/dojo-env/lib/python3.8/site-packages/pandas/core/generic.py:2951\u001b[0m, in \u001b[0;36mNDFrame.to_sql\u001b[0;34m(self, name, con, schema, if_exists, index, index_label, chunksize, dtype, method)\u001b[0m\n\u001b[1;32m   2794\u001b[0m \u001b[38;5;124;03m\"\"\"\u001b[39;00m\n\u001b[1;32m   2795\u001b[0m \u001b[38;5;124;03mWrite records stored in a DataFrame to a SQL database.\u001b[39;00m\n\u001b[1;32m   2796\u001b[0m \n\u001b[0;32m   (...)\u001b[0m\n\u001b[1;32m   2947\u001b[0m \u001b[38;5;124;03m[(1,), (None,), (2,)]\u001b[39;00m\n\u001b[1;32m   2948\u001b[0m \u001b[38;5;124;03m\"\"\"\u001b[39;00m  \u001b[38;5;66;03m# noqa:E501\u001b[39;00m\n\u001b[1;32m   2949\u001b[0m \u001b[38;5;28;01mfrom\u001b[39;00m \u001b[38;5;21;01mpandas\u001b[39;00m\u001b[38;5;21;01m.\u001b[39;00m\u001b[38;5;21;01mio\u001b[39;00m \u001b[38;5;28;01mimport\u001b[39;00m sql\n\u001b[0;32m-> 2951\u001b[0m \u001b[38;5;28;01mreturn\u001b[39;00m \u001b[43msql\u001b[49m\u001b[38;5;241;43m.\u001b[39;49m\u001b[43mto_sql\u001b[49m\u001b[43m(\u001b[49m\n\u001b[1;32m   2952\u001b[0m \u001b[43m    \u001b[49m\u001b[38;5;28;43mself\u001b[39;49m\u001b[43m,\u001b[49m\n\u001b[1;32m   2953\u001b[0m \u001b[43m    \u001b[49m\u001b[43mname\u001b[49m\u001b[43m,\u001b[49m\n\u001b[1;32m   2954\u001b[0m \u001b[43m    \u001b[49m\u001b[43mcon\u001b[49m\u001b[43m,\u001b[49m\n\u001b[1;32m   2955\u001b[0m \u001b[43m    \u001b[49m\u001b[43mschema\u001b[49m\u001b[38;5;241;43m=\u001b[39;49m\u001b[43mschema\u001b[49m\u001b[43m,\u001b[49m\n\u001b[1;32m   2956\u001b[0m \u001b[43m    \u001b[49m\u001b[43mif_exists\u001b[49m\u001b[38;5;241;43m=\u001b[39;49m\u001b[43mif_exists\u001b[49m\u001b[43m,\u001b[49m\n\u001b[1;32m   2957\u001b[0m \u001b[43m    \u001b[49m\u001b[43mindex\u001b[49m\u001b[38;5;241;43m=\u001b[39;49m\u001b[43mindex\u001b[49m\u001b[43m,\u001b[49m\n\u001b[1;32m   2958\u001b[0m \u001b[43m    \u001b[49m\u001b[43mindex_label\u001b[49m\u001b[38;5;241;43m=\u001b[39;49m\u001b[43mindex_label\u001b[49m\u001b[43m,\u001b[49m\n\u001b[1;32m   2959\u001b[0m \u001b[43m    \u001b[49m\u001b[43mchunksize\u001b[49m\u001b[38;5;241;43m=\u001b[39;49m\u001b[43mchunksize\u001b[49m\u001b[43m,\u001b[49m\n\u001b[1;32m   2960\u001b[0m \u001b[43m    \u001b[49m\u001b[43mdtype\u001b[49m\u001b[38;5;241;43m=\u001b[39;49m\u001b[43mdtype\u001b[49m\u001b[43m,\u001b[49m\n\u001b[1;32m   2961\u001b[0m \u001b[43m    \u001b[49m\u001b[43mmethod\u001b[49m\u001b[38;5;241;43m=\u001b[39;49m\u001b[43mmethod\u001b[49m\u001b[43m,\u001b[49m\n\u001b[1;32m   2962\u001b[0m \u001b[43m\u001b[49m\u001b[43m)\u001b[49m\n",
      "File \u001b[0;32m/opt/homebrew/Caskroom/miniforge/base/envs/dojo-env/lib/python3.8/site-packages/pandas/io/sql.py:697\u001b[0m, in \u001b[0;36mto_sql\u001b[0;34m(frame, name, con, schema, if_exists, index, index_label, chunksize, dtype, method, engine, **engine_kwargs)\u001b[0m\n\u001b[1;32m    692\u001b[0m \u001b[38;5;28;01melif\u001b[39;00m \u001b[38;5;129;01mnot\u001b[39;00m \u001b[38;5;28misinstance\u001b[39m(frame, DataFrame):\n\u001b[1;32m    693\u001b[0m     \u001b[38;5;28;01mraise\u001b[39;00m \u001b[38;5;167;01mNotImplementedError\u001b[39;00m(\n\u001b[1;32m    694\u001b[0m         \u001b[38;5;124m\"\u001b[39m\u001b[38;5;124m'\u001b[39m\u001b[38;5;124mframe\u001b[39m\u001b[38;5;124m'\u001b[39m\u001b[38;5;124m argument should be either a Series or a DataFrame\u001b[39m\u001b[38;5;124m\"\u001b[39m\n\u001b[1;32m    695\u001b[0m     )\n\u001b[0;32m--> 697\u001b[0m \u001b[38;5;28;01mreturn\u001b[39;00m \u001b[43mpandas_sql\u001b[49m\u001b[38;5;241;43m.\u001b[39;49m\u001b[43mto_sql\u001b[49m\u001b[43m(\u001b[49m\n\u001b[1;32m    698\u001b[0m \u001b[43m    \u001b[49m\u001b[43mframe\u001b[49m\u001b[43m,\u001b[49m\n\u001b[1;32m    699\u001b[0m \u001b[43m    \u001b[49m\u001b[43mname\u001b[49m\u001b[43m,\u001b[49m\n\u001b[1;32m    700\u001b[0m \u001b[43m    \u001b[49m\u001b[43mif_exists\u001b[49m\u001b[38;5;241;43m=\u001b[39;49m\u001b[43mif_exists\u001b[49m\u001b[43m,\u001b[49m\n\u001b[1;32m    701\u001b[0m \u001b[43m    \u001b[49m\u001b[43mindex\u001b[49m\u001b[38;5;241;43m=\u001b[39;49m\u001b[43mindex\u001b[49m\u001b[43m,\u001b[49m\n\u001b[1;32m    702\u001b[0m \u001b[43m    \u001b[49m\u001b[43mindex_label\u001b[49m\u001b[38;5;241;43m=\u001b[39;49m\u001b[43mindex_label\u001b[49m\u001b[43m,\u001b[49m\n\u001b[1;32m    703\u001b[0m \u001b[43m    \u001b[49m\u001b[43mschema\u001b[49m\u001b[38;5;241;43m=\u001b[39;49m\u001b[43mschema\u001b[49m\u001b[43m,\u001b[49m\n\u001b[1;32m    704\u001b[0m \u001b[43m    \u001b[49m\u001b[43mchunksize\u001b[49m\u001b[38;5;241;43m=\u001b[39;49m\u001b[43mchunksize\u001b[49m\u001b[43m,\u001b[49m\n\u001b[1;32m    705\u001b[0m \u001b[43m    \u001b[49m\u001b[43mdtype\u001b[49m\u001b[38;5;241;43m=\u001b[39;49m\u001b[43mdtype\u001b[49m\u001b[43m,\u001b[49m\n\u001b[1;32m    706\u001b[0m \u001b[43m    \u001b[49m\u001b[43mmethod\u001b[49m\u001b[38;5;241;43m=\u001b[39;49m\u001b[43mmethod\u001b[49m\u001b[43m,\u001b[49m\n\u001b[1;32m    707\u001b[0m \u001b[43m    \u001b[49m\u001b[43mengine\u001b[49m\u001b[38;5;241;43m=\u001b[39;49m\u001b[43mengine\u001b[49m\u001b[43m,\u001b[49m\n\u001b[1;32m    708\u001b[0m \u001b[43m    \u001b[49m\u001b[38;5;241;43m*\u001b[39;49m\u001b[38;5;241;43m*\u001b[39;49m\u001b[43mengine_kwargs\u001b[49m\u001b[43m,\u001b[49m\n\u001b[1;32m    709\u001b[0m \u001b[43m\u001b[49m\u001b[43m)\u001b[49m\n",
      "File \u001b[0;32m/opt/homebrew/Caskroom/miniforge/base/envs/dojo-env/lib/python3.8/site-packages/pandas/io/sql.py:1729\u001b[0m, in \u001b[0;36mSQLDatabase.to_sql\u001b[0;34m(self, frame, name, if_exists, index, index_label, schema, chunksize, dtype, method, engine, **engine_kwargs)\u001b[0m\n\u001b[1;32m   1679\u001b[0m \u001b[38;5;124;03m\"\"\"\u001b[39;00m\n\u001b[1;32m   1680\u001b[0m \u001b[38;5;124;03mWrite records stored in a DataFrame to a SQL database.\u001b[39;00m\n\u001b[1;32m   1681\u001b[0m \n\u001b[0;32m   (...)\u001b[0m\n\u001b[1;32m   1725\u001b[0m \u001b[38;5;124;03m    Any additional kwargs are passed to the engine.\u001b[39;00m\n\u001b[1;32m   1726\u001b[0m \u001b[38;5;124;03m\"\"\"\u001b[39;00m\n\u001b[1;32m   1727\u001b[0m sql_engine \u001b[38;5;241m=\u001b[39m get_engine(engine)\n\u001b[0;32m-> 1729\u001b[0m table \u001b[38;5;241m=\u001b[39m \u001b[38;5;28;43mself\u001b[39;49m\u001b[38;5;241;43m.\u001b[39;49m\u001b[43mprep_table\u001b[49m\u001b[43m(\u001b[49m\n\u001b[1;32m   1730\u001b[0m \u001b[43m    \u001b[49m\u001b[43mframe\u001b[49m\u001b[38;5;241;43m=\u001b[39;49m\u001b[43mframe\u001b[49m\u001b[43m,\u001b[49m\n\u001b[1;32m   1731\u001b[0m \u001b[43m    \u001b[49m\u001b[43mname\u001b[49m\u001b[38;5;241;43m=\u001b[39;49m\u001b[43mname\u001b[49m\u001b[43m,\u001b[49m\n\u001b[1;32m   1732\u001b[0m \u001b[43m    \u001b[49m\u001b[43mif_exists\u001b[49m\u001b[38;5;241;43m=\u001b[39;49m\u001b[43mif_exists\u001b[49m\u001b[43m,\u001b[49m\n\u001b[1;32m   1733\u001b[0m \u001b[43m    \u001b[49m\u001b[43mindex\u001b[49m\u001b[38;5;241;43m=\u001b[39;49m\u001b[43mindex\u001b[49m\u001b[43m,\u001b[49m\n\u001b[1;32m   1734\u001b[0m \u001b[43m    \u001b[49m\u001b[43mindex_label\u001b[49m\u001b[38;5;241;43m=\u001b[39;49m\u001b[43mindex_label\u001b[49m\u001b[43m,\u001b[49m\n\u001b[1;32m   1735\u001b[0m \u001b[43m    \u001b[49m\u001b[43mschema\u001b[49m\u001b[38;5;241;43m=\u001b[39;49m\u001b[43mschema\u001b[49m\u001b[43m,\u001b[49m\n\u001b[1;32m   1736\u001b[0m \u001b[43m    \u001b[49m\u001b[43mdtype\u001b[49m\u001b[38;5;241;43m=\u001b[39;49m\u001b[43mdtype\u001b[49m\u001b[43m,\u001b[49m\n\u001b[1;32m   1737\u001b[0m \u001b[43m\u001b[49m\u001b[43m)\u001b[49m\n\u001b[1;32m   1739\u001b[0m total_inserted \u001b[38;5;241m=\u001b[39m sql_engine\u001b[38;5;241m.\u001b[39minsert_records(\n\u001b[1;32m   1740\u001b[0m     table\u001b[38;5;241m=\u001b[39mtable,\n\u001b[1;32m   1741\u001b[0m     con\u001b[38;5;241m=\u001b[39m\u001b[38;5;28mself\u001b[39m\u001b[38;5;241m.\u001b[39mconnectable,\n\u001b[0;32m   (...)\u001b[0m\n\u001b[1;32m   1748\u001b[0m     \u001b[38;5;241m*\u001b[39m\u001b[38;5;241m*\u001b[39mengine_kwargs,\n\u001b[1;32m   1749\u001b[0m )\n\u001b[1;32m   1751\u001b[0m \u001b[38;5;28mself\u001b[39m\u001b[38;5;241m.\u001b[39mcheck_case_sensitive(name\u001b[38;5;241m=\u001b[39mname, schema\u001b[38;5;241m=\u001b[39mschema)\n",
      "File \u001b[0;32m/opt/homebrew/Caskroom/miniforge/base/envs/dojo-env/lib/python3.8/site-packages/pandas/io/sql.py:1628\u001b[0m, in \u001b[0;36mSQLDatabase.prep_table\u001b[0;34m(self, frame, name, if_exists, index, index_label, schema, dtype)\u001b[0m\n\u001b[1;32m   1616\u001b[0m             \u001b[38;5;28;01mraise\u001b[39;00m \u001b[38;5;167;01mValueError\u001b[39;00m(\u001b[38;5;124mf\u001b[39m\u001b[38;5;124m\"\u001b[39m\u001b[38;5;124mThe type of \u001b[39m\u001b[38;5;132;01m{\u001b[39;00mcol\u001b[38;5;132;01m}\u001b[39;00m\u001b[38;5;124m is not a SQLAlchemy type\u001b[39m\u001b[38;5;124m\"\u001b[39m)\n\u001b[1;32m   1618\u001b[0m table \u001b[38;5;241m=\u001b[39m SQLTable(\n\u001b[1;32m   1619\u001b[0m     name,\n\u001b[1;32m   1620\u001b[0m     \u001b[38;5;28mself\u001b[39m,\n\u001b[0;32m   (...)\u001b[0m\n\u001b[1;32m   1626\u001b[0m     dtype\u001b[38;5;241m=\u001b[39mdtype,\n\u001b[1;32m   1627\u001b[0m )\n\u001b[0;32m-> 1628\u001b[0m \u001b[43mtable\u001b[49m\u001b[38;5;241;43m.\u001b[39;49m\u001b[43mcreate\u001b[49m\u001b[43m(\u001b[49m\u001b[43m)\u001b[49m\n\u001b[1;32m   1629\u001b[0m \u001b[38;5;28;01mreturn\u001b[39;00m table\n",
      "File \u001b[0;32m/opt/homebrew/Caskroom/miniforge/base/envs/dojo-env/lib/python3.8/site-packages/pandas/io/sql.py:833\u001b[0m, in \u001b[0;36mSQLTable.create\u001b[0;34m(self)\u001b[0m\n\u001b[1;32m    831\u001b[0m \u001b[38;5;28;01mif\u001b[39;00m \u001b[38;5;28mself\u001b[39m\u001b[38;5;241m.\u001b[39mexists():\n\u001b[1;32m    832\u001b[0m     \u001b[38;5;28;01mif\u001b[39;00m \u001b[38;5;28mself\u001b[39m\u001b[38;5;241m.\u001b[39mif_exists \u001b[38;5;241m==\u001b[39m \u001b[38;5;124m\"\u001b[39m\u001b[38;5;124mfail\u001b[39m\u001b[38;5;124m\"\u001b[39m:\n\u001b[0;32m--> 833\u001b[0m         \u001b[38;5;28;01mraise\u001b[39;00m \u001b[38;5;167;01mValueError\u001b[39;00m(\u001b[38;5;124mf\u001b[39m\u001b[38;5;124m\"\u001b[39m\u001b[38;5;124mTable \u001b[39m\u001b[38;5;124m'\u001b[39m\u001b[38;5;132;01m{\u001b[39;00m\u001b[38;5;28mself\u001b[39m\u001b[38;5;241m.\u001b[39mname\u001b[38;5;132;01m}\u001b[39;00m\u001b[38;5;124m'\u001b[39m\u001b[38;5;124m already exists.\u001b[39m\u001b[38;5;124m\"\u001b[39m)\n\u001b[1;32m    834\u001b[0m     \u001b[38;5;28;01melif\u001b[39;00m \u001b[38;5;28mself\u001b[39m\u001b[38;5;241m.\u001b[39mif_exists \u001b[38;5;241m==\u001b[39m \u001b[38;5;124m\"\u001b[39m\u001b[38;5;124mreplace\u001b[39m\u001b[38;5;124m\"\u001b[39m:\n\u001b[1;32m    835\u001b[0m         \u001b[38;5;28mself\u001b[39m\u001b[38;5;241m.\u001b[39mpd_sql\u001b[38;5;241m.\u001b[39mdrop_table(\u001b[38;5;28mself\u001b[39m\u001b[38;5;241m.\u001b[39mname, \u001b[38;5;28mself\u001b[39m\u001b[38;5;241m.\u001b[39mschema)\n",
      "\u001b[0;31mValueError\u001b[0m: Table 'school_details' already exists."
     ]
    }
   ],
   "source": [
    "# add the dataframe as a table in sqlite\n",
    "sqlite_table1 = \"school_details\"\n",
    "school.to_sql(sqlite_table1, conn, if_exists='fail')\n",
    "\n",
    "sqlite_table2 = \"school_facility_details\"\n",
    "facility.to_sql(sqlite_table2, conn, if_exists='fail')"
   ]
  },
  {
   "cell_type": "markdown",
   "metadata": {
    "id": "4oVXqFLzzGUm"
   },
   "source": [
    "- Lets see how is our table look like"
   ]
  },
  {
   "cell_type": "code",
   "execution_count": 8,
   "metadata": {
    "colab": {
     "base_uri": "https://localhost:8080/",
     "height": 1000
    },
    "id": "Gholo-DezF2g",
    "outputId": "aa8b44b7-3cc6-4080-e203-8223b6ce97fb"
   },
   "outputs": [
    {
     "name": "stdout",
     "output_type": "stream",
     "text": [
      "2023-07-17 11:14:55,079 INFO sqlalchemy.engine.Engine \n",
      "SELECT *\n",
      "FROM school_details limit(5)\n",
      "\n",
      "2023-07-17 11:14:55,081 INFO sqlalchemy.engine.Engine [raw sql] ()\n"
     ]
    },
    {
     "data": {
      "text/html": [
       "<div>\n",
       "<style scoped>\n",
       "    .dataframe tbody tr th:only-of-type {\n",
       "        vertical-align: middle;\n",
       "    }\n",
       "\n",
       "    .dataframe tbody tr th {\n",
       "        vertical-align: top;\n",
       "    }\n",
       "\n",
       "    .dataframe thead th {\n",
       "        text-align: right;\n",
       "    }\n",
       "</style>\n",
       "<table border=\"1\" class=\"dataframe\">\n",
       "  <thead>\n",
       "    <tr style=\"text-align: right;\">\n",
       "      <th></th>\n",
       "      <th>index</th>\n",
       "      <th>DistrictName</th>\n",
       "      <th>EstablishmentCode</th>\n",
       "      <th>EstablishmentName</th>\n",
       "      <th>BRCName</th>\n",
       "      <th>CRCName</th>\n",
       "      <th>SchoolLevel</th>\n",
       "      <th>ManagementName</th>\n",
       "      <th>LocalityHabitation</th>\n",
       "      <th>SubdivisionName</th>\n",
       "      <th>...</th>\n",
       "      <th>EstablishedDate</th>\n",
       "      <th>DistrictHQDistance (in Km)</th>\n",
       "      <th>CRCDistance (in Km)</th>\n",
       "      <th>BACDistance (in Km)</th>\n",
       "      <th>IsRecognized</th>\n",
       "      <th>RecognizedBy</th>\n",
       "      <th>ContactPersonName</th>\n",
       "      <th>LowestClass</th>\n",
       "      <th>HighestClass</th>\n",
       "      <th>BoardName</th>\n",
       "    </tr>\n",
       "  </thead>\n",
       "  <tbody>\n",
       "    <tr>\n",
       "      <th>0</th>\n",
       "      <td>0</td>\n",
       "      <td>East</td>\n",
       "      <td>S0169</td>\n",
       "      <td>BUDANG GOVERNMENT PRIMARY SCHOOL (E)</td>\n",
       "      <td>Duga Brc</td>\n",
       "      <td>Central Pendam Government Senior Secondary School</td>\n",
       "      <td>PS</td>\n",
       "      <td>State Govt.</td>\n",
       "      <td>BUDANG</td>\n",
       "      <td>Gangtok</td>\n",
       "      <td>...</td>\n",
       "      <td>28126</td>\n",
       "      <td>58.0</td>\n",
       "      <td>8.0</td>\n",
       "      <td>16.0</td>\n",
       "      <td>Recognized</td>\n",
       "      <td>HRDD</td>\n",
       "      <td>None</td>\n",
       "      <td>Class 1</td>\n",
       "      <td>Class 5</td>\n",
       "      <td>None</td>\n",
       "    </tr>\n",
       "    <tr>\n",
       "      <th>1</th>\n",
       "      <td>1</td>\n",
       "      <td>East</td>\n",
       "      <td>S0099</td>\n",
       "      <td>CENTRAL PENDAM GOVERNMENT SENIOR SECONDARY SCHOOL</td>\n",
       "      <td>Duga Brc</td>\n",
       "      <td>Central Pendam Government Senior Secondary School</td>\n",
       "      <td>SSS</td>\n",
       "      <td>State Govt.</td>\n",
       "      <td>CENTRAL PENDAM</td>\n",
       "      <td>Gangtok</td>\n",
       "      <td>...</td>\n",
       "      <td>15342</td>\n",
       "      <td>50.0</td>\n",
       "      <td>0.0</td>\n",
       "      <td>6.0</td>\n",
       "      <td>Recognized</td>\n",
       "      <td>HRDD</td>\n",
       "      <td>None</td>\n",
       "      <td>Class 1</td>\n",
       "      <td>Class 12</td>\n",
       "      <td>C.B.S.E.</td>\n",
       "    </tr>\n",
       "    <tr>\n",
       "      <th>2</th>\n",
       "      <td>2</td>\n",
       "      <td>East</td>\n",
       "      <td>S0848</td>\n",
       "      <td>CENTRAL POINT ACADEMY, CENTRAL PENDAM</td>\n",
       "      <td>Duga Brc</td>\n",
       "      <td>Central Pendam Government Senior Secondary School</td>\n",
       "      <td>SS</td>\n",
       "      <td>Private (Unaided)</td>\n",
       "      <td>UPPER BHURUNG CENTRAL PENDAM</td>\n",
       "      <td>Gangtok</td>\n",
       "      <td>...</td>\n",
       "      <td>37257.38681</td>\n",
       "      <td>49.0</td>\n",
       "      <td>1.5</td>\n",
       "      <td>6.0</td>\n",
       "      <td>Recognized</td>\n",
       "      <td>HRDD, GOVT. OF SIKKIM</td>\n",
       "      <td>None</td>\n",
       "      <td>Class 1</td>\n",
       "      <td>Class 10</td>\n",
       "      <td>C.B.S.E.</td>\n",
       "    </tr>\n",
       "    <tr>\n",
       "      <th>3</th>\n",
       "      <td>3</td>\n",
       "      <td>East</td>\n",
       "      <td>S0190</td>\n",
       "      <td>CHEURIBOTEY GOVERNMENT JUNIOR HIGH SCHOOL (E)</td>\n",
       "      <td>Duga Brc</td>\n",
       "      <td>Central Pendam Government Senior Secondary School</td>\n",
       "      <td>JHS</td>\n",
       "      <td>State Govt.</td>\n",
       "      <td>CHEURIBOTEY</td>\n",
       "      <td>Gangtok</td>\n",
       "      <td>...</td>\n",
       "      <td>28856</td>\n",
       "      <td>60.0</td>\n",
       "      <td>6.0</td>\n",
       "      <td>6.0</td>\n",
       "      <td>Recognized</td>\n",
       "      <td>State Govt.</td>\n",
       "      <td>None</td>\n",
       "      <td>Class 1</td>\n",
       "      <td>Class 8</td>\n",
       "      <td>None</td>\n",
       "    </tr>\n",
       "    <tr>\n",
       "      <th>4</th>\n",
       "      <td>4</td>\n",
       "      <td>East</td>\n",
       "      <td>S0111</td>\n",
       "      <td>DUGA GOVERNMENT SECONDARY SCHOOL</td>\n",
       "      <td>Duga Brc</td>\n",
       "      <td>Central Pendam Government Senior Secondary School</td>\n",
       "      <td>SS</td>\n",
       "      <td>State Govt.</td>\n",
       "      <td>DUGA</td>\n",
       "      <td>Gangtok</td>\n",
       "      <td>...</td>\n",
       "      <td>1828</td>\n",
       "      <td>52.0</td>\n",
       "      <td>0.0</td>\n",
       "      <td>0.5</td>\n",
       "      <td>Recognized</td>\n",
       "      <td>c.b.s.e.</td>\n",
       "      <td>None</td>\n",
       "      <td>Class 1</td>\n",
       "      <td>Class 10</td>\n",
       "      <td>C.B.S.E.</td>\n",
       "    </tr>\n",
       "  </tbody>\n",
       "</table>\n",
       "<p>5 rows × 31 columns</p>\n",
       "</div>"
      ],
      "text/plain": [
       "   index DistrictName EstablishmentCode  \\\n",
       "0      0         East             S0169   \n",
       "1      1         East             S0099   \n",
       "2      2         East             S0848   \n",
       "3      3         East             S0190   \n",
       "4      4         East             S0111   \n",
       "\n",
       "                                   EstablishmentName   BRCName  \\\n",
       "0               BUDANG GOVERNMENT PRIMARY SCHOOL (E)  Duga Brc   \n",
       "1  CENTRAL PENDAM GOVERNMENT SENIOR SECONDARY SCHOOL  Duga Brc   \n",
       "2              CENTRAL POINT ACADEMY, CENTRAL PENDAM  Duga Brc   \n",
       "3      CHEURIBOTEY GOVERNMENT JUNIOR HIGH SCHOOL (E)  Duga Brc   \n",
       "4                   DUGA GOVERNMENT SECONDARY SCHOOL  Duga Brc   \n",
       "\n",
       "                                             CRCName SchoolLevel  \\\n",
       "0  Central Pendam Government Senior Secondary School          PS   \n",
       "1  Central Pendam Government Senior Secondary School         SSS   \n",
       "2  Central Pendam Government Senior Secondary School          SS   \n",
       "3  Central Pendam Government Senior Secondary School         JHS   \n",
       "4  Central Pendam Government Senior Secondary School          SS   \n",
       "\n",
       "      ManagementName            LocalityHabitation SubdivisionName  ...  \\\n",
       "0        State Govt.                        BUDANG         Gangtok  ...   \n",
       "1        State Govt.                CENTRAL PENDAM         Gangtok  ...   \n",
       "2  Private (Unaided)  UPPER BHURUNG CENTRAL PENDAM         Gangtok  ...   \n",
       "3        State Govt.                   CHEURIBOTEY         Gangtok  ...   \n",
       "4        State Govt.                          DUGA         Gangtok  ...   \n",
       "\n",
       "  EstablishedDate DistrictHQDistance (in Km) CRCDistance (in Km)  \\\n",
       "0           28126                       58.0                 8.0   \n",
       "1           15342                       50.0                 0.0   \n",
       "2     37257.38681                       49.0                 1.5   \n",
       "3           28856                       60.0                 6.0   \n",
       "4            1828                       52.0                 0.0   \n",
       "\n",
       "  BACDistance (in Km) IsRecognized           RecognizedBy ContactPersonName  \\\n",
       "0                16.0   Recognized                   HRDD              None   \n",
       "1                 6.0   Recognized                   HRDD              None   \n",
       "2                 6.0   Recognized  HRDD, GOVT. OF SIKKIM              None   \n",
       "3                 6.0   Recognized            State Govt.              None   \n",
       "4                 0.5   Recognized               c.b.s.e.              None   \n",
       "\n",
       "  LowestClass HighestClass BoardName  \n",
       "0     Class 1      Class 5      None  \n",
       "1     Class 1     Class 12  C.B.S.E.  \n",
       "2     Class 1     Class 10  C.B.S.E.  \n",
       "3     Class 1      Class 8      None  \n",
       "4     Class 1     Class 10  C.B.S.E.  \n",
       "\n",
       "[5 rows x 31 columns]"
      ]
     },
     "execution_count": 8,
     "metadata": {},
     "output_type": "execute_result"
    }
   ],
   "source": [
    "# Using SELECT view school_details data\n",
    "sql = \"\"\"\n",
    "SELECT *\n",
    "FROM school_details limit(5)\n",
    "\"\"\"\n",
    "# Read the sql query into pandas to view the results\n",
    "df = pd.read_sql_query(sql, engine)\n",
    "df"
   ]
  },
  {
   "cell_type": "code",
   "execution_count": 9,
   "metadata": {
    "colab": {
     "base_uri": "https://localhost:8080/",
     "height": 511
    },
    "id": "TcEi5uUBzcc2",
    "outputId": "c1de21d6-00d4-40e4-e4c6-7790d980ec7a"
   },
   "outputs": [
    {
     "name": "stdout",
     "output_type": "stream",
     "text": [
      "2023-07-17 11:15:26,564 INFO sqlalchemy.engine.Engine \n",
      "SELECT DistrictName,PhoneNo\n",
      "FROM school_details\n",
      "\n",
      "2023-07-17 11:15:26,567 INFO sqlalchemy.engine.Engine [raw sql] ()\n"
     ]
    },
    {
     "data": {
      "text/html": [
       "<div>\n",
       "<style scoped>\n",
       "    .dataframe tbody tr th:only-of-type {\n",
       "        vertical-align: middle;\n",
       "    }\n",
       "\n",
       "    .dataframe tbody tr th {\n",
       "        vertical-align: top;\n",
       "    }\n",
       "\n",
       "    .dataframe thead th {\n",
       "        text-align: right;\n",
       "    }\n",
       "</style>\n",
       "<table border=\"1\" class=\"dataframe\">\n",
       "  <thead>\n",
       "    <tr style=\"text-align: right;\">\n",
       "      <th></th>\n",
       "      <th>DistrictName</th>\n",
       "      <th>PhoneNo</th>\n",
       "    </tr>\n",
       "  </thead>\n",
       "  <tbody>\n",
       "    <tr>\n",
       "      <th>0</th>\n",
       "      <td>East</td>\n",
       "      <td>None</td>\n",
       "    </tr>\n",
       "    <tr>\n",
       "      <th>1</th>\n",
       "      <td>East</td>\n",
       "      <td>3592263812</td>\n",
       "    </tr>\n",
       "    <tr>\n",
       "      <th>2</th>\n",
       "      <td>East</td>\n",
       "      <td>03592263809/263960</td>\n",
       "    </tr>\n",
       "    <tr>\n",
       "      <th>3</th>\n",
       "      <td>East</td>\n",
       "      <td>None</td>\n",
       "    </tr>\n",
       "    <tr>\n",
       "      <th>4</th>\n",
       "      <td>East</td>\n",
       "      <td>9832082915</td>\n",
       "    </tr>\n",
       "    <tr>\n",
       "      <th>...</th>\n",
       "      <td>...</td>\n",
       "      <td>...</td>\n",
       "    </tr>\n",
       "    <tr>\n",
       "      <th>1244</th>\n",
       "      <td>West</td>\n",
       "      <td>9733084983</td>\n",
       "    </tr>\n",
       "    <tr>\n",
       "      <th>1245</th>\n",
       "      <td>West</td>\n",
       "      <td>None</td>\n",
       "    </tr>\n",
       "    <tr>\n",
       "      <th>1246</th>\n",
       "      <td>West</td>\n",
       "      <td>9735054681</td>\n",
       "    </tr>\n",
       "    <tr>\n",
       "      <th>1247</th>\n",
       "      <td>West</td>\n",
       "      <td>9593377402</td>\n",
       "    </tr>\n",
       "    <tr>\n",
       "      <th>1248</th>\n",
       "      <td>West</td>\n",
       "      <td>None</td>\n",
       "    </tr>\n",
       "  </tbody>\n",
       "</table>\n",
       "<p>1249 rows × 2 columns</p>\n",
       "</div>"
      ],
      "text/plain": [
       "     DistrictName             PhoneNo\n",
       "0            East                None\n",
       "1            East          3592263812\n",
       "2            East  03592263809/263960\n",
       "3            East                None\n",
       "4            East          9832082915\n",
       "...           ...                 ...\n",
       "1244         West          9733084983\n",
       "1245         West                None\n",
       "1246         West          9735054681\n",
       "1247         West          9593377402\n",
       "1248         West                None\n",
       "\n",
       "[1249 rows x 2 columns]"
      ]
     },
     "execution_count": 9,
     "metadata": {},
     "output_type": "execute_result"
    }
   ],
   "source": [
    "# Using SELECT view col1 from school\n",
    "sql = \"\"\"\n",
    "SELECT DistrictName,PhoneNo\n",
    "FROM school_details\n",
    "\"\"\"\n",
    "# Read the sql query into pandas to view the results\n",
    "df = pd.read_sql_query(sql, engine)\n",
    "df"
   ]
  },
  {
   "cell_type": "markdown",
   "metadata": {
    "id": "EemnRaoRBW5x"
   },
   "source": [
    "What is the average BACDistance (in Km)? Rename the output column to \"avg_bac_distance.\""
   ]
  },
  {
   "cell_type": "code",
   "execution_count": 10,
   "metadata": {
    "colab": {
     "base_uri": "https://localhost:8080/",
     "height": 168
    },
    "id": "g8Uule2mBRPl",
    "outputId": "d8189d32-9029-4020-d4e7-011cf0873033"
   },
   "outputs": [
    {
     "name": "stdout",
     "output_type": "stream",
     "text": [
      "2023-07-17 11:16:47,233 INFO sqlalchemy.engine.Engine \n",
      "SELECT AVG(\"BACDistance (in Km)\") as avg_bac_distance\n",
      "FROM school_details\n",
      "\n",
      "2023-07-17 11:16:47,233 INFO sqlalchemy.engine.Engine [raw sql] ()\n"
     ]
    },
    {
     "data": {
      "text/html": [
       "<div>\n",
       "<style scoped>\n",
       "    .dataframe tbody tr th:only-of-type {\n",
       "        vertical-align: middle;\n",
       "    }\n",
       "\n",
       "    .dataframe tbody tr th {\n",
       "        vertical-align: top;\n",
       "    }\n",
       "\n",
       "    .dataframe thead th {\n",
       "        text-align: right;\n",
       "    }\n",
       "</style>\n",
       "<table border=\"1\" class=\"dataframe\">\n",
       "  <thead>\n",
       "    <tr style=\"text-align: right;\">\n",
       "      <th></th>\n",
       "      <th>avg_bac_distance</th>\n",
       "    </tr>\n",
       "  </thead>\n",
       "  <tbody>\n",
       "    <tr>\n",
       "      <th>0</th>\n",
       "      <td>12.681822</td>\n",
       "    </tr>\n",
       "  </tbody>\n",
       "</table>\n",
       "</div>"
      ],
      "text/plain": [
       "   avg_bac_distance\n",
       "0         12.681822"
      ]
     },
     "execution_count": 10,
     "metadata": {},
     "output_type": "execute_result"
    }
   ],
   "source": [
    "# What is the average BACDistance (in Km)? Rename the output column to \"avg_bac_distance.\"\n",
    "sql = \"\"\"\n",
    "SELECT AVG(\"BACDistance (in Km)\") as avg_bac_distance\n",
    "FROM school_details\n",
    "\"\"\"\n",
    "# Read the sql query into pandas to view the results\n",
    "df = pd.read_sql_query(sql, engine)\n",
    "df"
   ]
  },
  {
   "cell_type": "markdown",
   "metadata": {
    "id": "0676eUq_ByOR"
   },
   "source": [
    "What is the average BACDistance (in Km) by School Level? Sort the results from highest average to lowest average."
   ]
  },
  {
   "cell_type": "code",
   "execution_count": 12,
   "metadata": {
    "colab": {
     "base_uri": "https://localhost:8080/",
     "height": 328
    },
    "id": "z_hz06fQB6Dd",
    "outputId": "355b926a-f86e-4e77-ad0b-7c5d4dc9bdc9"
   },
   "outputs": [
    {
     "name": "stdout",
     "output_type": "stream",
     "text": [
      "2023-07-17 11:17:44,420 INFO sqlalchemy.engine.Engine \n",
      "SELECT AVG(\"BACDistance (in Km)\") as avg_bac_distance\n",
      "FROM school_details\n",
      "GROUP BY SchoolLevel\n",
      "ORDER BY avg_bac_distance DESC\n",
      "\n",
      "2023-07-17 11:17:44,422 INFO sqlalchemy.engine.Engine [raw sql] ()\n"
     ]
    },
    {
     "data": {
      "text/html": [
       "<div>\n",
       "<style scoped>\n",
       "    .dataframe tbody tr th:only-of-type {\n",
       "        vertical-align: middle;\n",
       "    }\n",
       "\n",
       "    .dataframe tbody tr th {\n",
       "        vertical-align: top;\n",
       "    }\n",
       "\n",
       "    .dataframe thead th {\n",
       "        text-align: right;\n",
       "    }\n",
       "</style>\n",
       "<table border=\"1\" class=\"dataframe\">\n",
       "  <thead>\n",
       "    <tr style=\"text-align: right;\">\n",
       "      <th></th>\n",
       "      <th>avg_bac_distance</th>\n",
       "    </tr>\n",
       "  </thead>\n",
       "  <tbody>\n",
       "    <tr>\n",
       "      <th>0</th>\n",
       "      <td>13.692647</td>\n",
       "    </tr>\n",
       "    <tr>\n",
       "      <th>1</th>\n",
       "      <td>12.830787</td>\n",
       "    </tr>\n",
       "    <tr>\n",
       "      <th>2</th>\n",
       "      <td>12.630872</td>\n",
       "    </tr>\n",
       "    <tr>\n",
       "      <th>3</th>\n",
       "      <td>10.863095</td>\n",
       "    </tr>\n",
       "    <tr>\n",
       "      <th>4</th>\n",
       "      <td>5.368421</td>\n",
       "    </tr>\n",
       "  </tbody>\n",
       "</table>\n",
       "</div>"
      ],
      "text/plain": [
       "   avg_bac_distance\n",
       "0         13.692647\n",
       "1         12.830787\n",
       "2         12.630872\n",
       "3         10.863095\n",
       "4          5.368421"
      ]
     },
     "execution_count": 12,
     "metadata": {},
     "output_type": "execute_result"
    }
   ],
   "source": [
    "# What is the average BACDistance (in Km) by School Level? Sort the results from highest average to lowest average.\n",
    "sql = \"\"\"\n",
    "SELECT AVG(\"BACDistance (in Km)\") as avg_bac_distance\n",
    "FROM school_details\n",
    "GROUP BY SchoolLevel\n",
    "ORDER BY avg_bac_distance DESC\n",
    "\"\"\"\n",
    "# Read the sql query into pandas to view the results\n",
    "df = pd.read_sql_query(sql, engine)\n",
    "df.head()"
   ]
  },
  {
   "cell_type": "markdown",
   "metadata": {
    "id": "ziwVWIhmCTaR"
   },
   "source": [
    "Repeat the previous query, but only display results where the average distance is at least 10 km."
   ]
  },
  {
   "cell_type": "code",
   "execution_count": 13,
   "metadata": {
    "colab": {
     "base_uri": "https://localhost:8080/",
     "height": 314
    },
    "id": "Hqjr-edGCZhr",
    "outputId": "e55a5965-c36f-490f-9db7-06cc01d3314a"
   },
   "outputs": [
    {
     "name": "stdout",
     "output_type": "stream",
     "text": [
      "2023-07-17 11:17:53,791 INFO sqlalchemy.engine.Engine \n",
      "SELECT AVG(\"BACDistance (in Km)\") as avg_bac_distance\n",
      "FROM school_details\n",
      "GROUP BY SchoolLevel\n",
      "HAVING avg_bac_distance >= 10\n",
      "ORDER BY avg_bac_distance DESC\n",
      "\n",
      "2023-07-17 11:17:53,795 INFO sqlalchemy.engine.Engine [raw sql] ()\n"
     ]
    },
    {
     "data": {
      "text/html": [
       "<div>\n",
       "<style scoped>\n",
       "    .dataframe tbody tr th:only-of-type {\n",
       "        vertical-align: middle;\n",
       "    }\n",
       "\n",
       "    .dataframe tbody tr th {\n",
       "        vertical-align: top;\n",
       "    }\n",
       "\n",
       "    .dataframe thead th {\n",
       "        text-align: right;\n",
       "    }\n",
       "</style>\n",
       "<table border=\"1\" class=\"dataframe\">\n",
       "  <thead>\n",
       "    <tr style=\"text-align: right;\">\n",
       "      <th></th>\n",
       "      <th>avg_bac_distance</th>\n",
       "    </tr>\n",
       "  </thead>\n",
       "  <tbody>\n",
       "    <tr>\n",
       "      <th>0</th>\n",
       "      <td>13.692647</td>\n",
       "    </tr>\n",
       "    <tr>\n",
       "      <th>1</th>\n",
       "      <td>12.830787</td>\n",
       "    </tr>\n",
       "    <tr>\n",
       "      <th>2</th>\n",
       "      <td>12.630872</td>\n",
       "    </tr>\n",
       "    <tr>\n",
       "      <th>3</th>\n",
       "      <td>10.863095</td>\n",
       "    </tr>\n",
       "  </tbody>\n",
       "</table>\n",
       "</div>"
      ],
      "text/plain": [
       "   avg_bac_distance\n",
       "0         13.692647\n",
       "1         12.830787\n",
       "2         12.630872\n",
       "3         10.863095"
      ]
     },
     "execution_count": 13,
     "metadata": {},
     "output_type": "execute_result"
    }
   ],
   "source": [
    "# Repeat the previous query, but only display results where the average distance is at least 10 km.\n",
    "sql = \"\"\"\n",
    "SELECT AVG(\"BACDistance (in Km)\") as avg_bac_distance\n",
    "FROM school_details\n",
    "GROUP BY SchoolLevel\n",
    "HAVING avg_bac_distance >= 10\n",
    "ORDER BY avg_bac_distance DESC\n",
    "\"\"\"\n",
    "# Read the sql query into pandas to view the results\n",
    "df = pd.read_sql_query(sql, engine)\n",
    "df"
   ]
  },
  {
   "cell_type": "markdown",
   "metadata": {
    "id": "UkQ1yVUTDeWq"
   },
   "source": [
    "Join the two tables together (school_details and school_facility_details). Start by displaying all of the columns, but limit the resulting rows to just 2."
   ]
  },
  {
   "cell_type": "code",
   "execution_count": 14,
   "metadata": {
    "colab": {
     "base_uri": "https://localhost:8080/",
     "height": 518
    },
    "id": "Xz5flnPzDn0w",
    "outputId": "7d69825a-52f9-4f07-e6cd-bcbefe74a5a3"
   },
   "outputs": [
    {
     "name": "stdout",
     "output_type": "stream",
     "text": [
      "2023-07-17 11:17:58,355 INFO sqlalchemy.engine.Engine \n",
      "SELECT *\n",
      "FROM school_details as sd\n",
      "JOIN school_facility_details as sfd\n",
      "WHERE sd.EstablishmentCode = sfd.EstablishmentCode\n",
      "LIMIT 2\n",
      "\n",
      "2023-07-17 11:17:58,356 INFO sqlalchemy.engine.Engine [raw sql] ()\n"
     ]
    },
    {
     "data": {
      "text/html": [
       "<div>\n",
       "<style scoped>\n",
       "    .dataframe tbody tr th:only-of-type {\n",
       "        vertical-align: middle;\n",
       "    }\n",
       "\n",
       "    .dataframe tbody tr th {\n",
       "        vertical-align: top;\n",
       "    }\n",
       "\n",
       "    .dataframe thead th {\n",
       "        text-align: right;\n",
       "    }\n",
       "</style>\n",
       "<table border=\"1\" class=\"dataframe\">\n",
       "  <thead>\n",
       "    <tr style=\"text-align: right;\">\n",
       "      <th></th>\n",
       "      <th>index</th>\n",
       "      <th>DistrictName</th>\n",
       "      <th>EstablishmentCode</th>\n",
       "      <th>EstablishmentName</th>\n",
       "      <th>BRCName</th>\n",
       "      <th>CRCName</th>\n",
       "      <th>SchoolLevel</th>\n",
       "      <th>ManagementName</th>\n",
       "      <th>LocalityHabitation</th>\n",
       "      <th>SubdivisionName</th>\n",
       "      <th>...</th>\n",
       "      <th>EstablishmentName</th>\n",
       "      <th>IsLibraryAvailable</th>\n",
       "      <th>AvailableBooksCount</th>\n",
       "      <th>IsFireExtgAvailable</th>\n",
       "      <th>ExtinguisherCount</th>\n",
       "      <th>HOIRoomAvailable</th>\n",
       "      <th>IsStaffRoomAvailable</th>\n",
       "      <th>NoofStaffRoom</th>\n",
       "      <th>IsLockerForStaffAvailable</th>\n",
       "      <th>IsSportsStoreRoomAvailable</th>\n",
       "    </tr>\n",
       "  </thead>\n",
       "  <tbody>\n",
       "    <tr>\n",
       "      <th>0</th>\n",
       "      <td>0</td>\n",
       "      <td>East</td>\n",
       "      <td>S0169</td>\n",
       "      <td>BUDANG GOVERNMENT PRIMARY SCHOOL (E)</td>\n",
       "      <td>Duga Brc</td>\n",
       "      <td>Central Pendam Government Senior Secondary School</td>\n",
       "      <td>PS</td>\n",
       "      <td>State Govt.</td>\n",
       "      <td>BUDANG</td>\n",
       "      <td>Gangtok</td>\n",
       "      <td>...</td>\n",
       "      <td>BUDANG GOVERNMENT PRIMARY SCHOOL (E)</td>\n",
       "      <td>Available</td>\n",
       "      <td>100</td>\n",
       "      <td>Available</td>\n",
       "      <td>2</td>\n",
       "      <td>Available</td>\n",
       "      <td>Available</td>\n",
       "      <td>1</td>\n",
       "      <td>Not Available</td>\n",
       "      <td>Not Available</td>\n",
       "    </tr>\n",
       "    <tr>\n",
       "      <th>1</th>\n",
       "      <td>1</td>\n",
       "      <td>East</td>\n",
       "      <td>S0099</td>\n",
       "      <td>CENTRAL PENDAM GOVERNMENT SENIOR SECONDARY SCHOOL</td>\n",
       "      <td>Duga Brc</td>\n",
       "      <td>Central Pendam Government Senior Secondary School</td>\n",
       "      <td>SSS</td>\n",
       "      <td>State Govt.</td>\n",
       "      <td>CENTRAL PENDAM</td>\n",
       "      <td>Gangtok</td>\n",
       "      <td>...</td>\n",
       "      <td>CENTRAL PENDAM GOVERNMENT SENIOR SECONDARY SCHOOL</td>\n",
       "      <td>Available</td>\n",
       "      <td>0</td>\n",
       "      <td>Available</td>\n",
       "      <td>5</td>\n",
       "      <td>Available</td>\n",
       "      <td>Available</td>\n",
       "      <td>2</td>\n",
       "      <td>Not Available</td>\n",
       "      <td>Available</td>\n",
       "    </tr>\n",
       "  </tbody>\n",
       "</table>\n",
       "<p>2 rows × 43 columns</p>\n",
       "</div>"
      ],
      "text/plain": [
       "   index DistrictName EstablishmentCode  \\\n",
       "0      0         East             S0169   \n",
       "1      1         East             S0099   \n",
       "\n",
       "                                   EstablishmentName   BRCName  \\\n",
       "0               BUDANG GOVERNMENT PRIMARY SCHOOL (E)  Duga Brc   \n",
       "1  CENTRAL PENDAM GOVERNMENT SENIOR SECONDARY SCHOOL  Duga Brc   \n",
       "\n",
       "                                             CRCName SchoolLevel  \\\n",
       "0  Central Pendam Government Senior Secondary School          PS   \n",
       "1  Central Pendam Government Senior Secondary School         SSS   \n",
       "\n",
       "  ManagementName LocalityHabitation SubdivisionName  ...  \\\n",
       "0    State Govt.             BUDANG         Gangtok  ...   \n",
       "1    State Govt.     CENTRAL PENDAM         Gangtok  ...   \n",
       "\n",
       "                                   EstablishmentName IsLibraryAvailable  \\\n",
       "0               BUDANG GOVERNMENT PRIMARY SCHOOL (E)          Available   \n",
       "1  CENTRAL PENDAM GOVERNMENT SENIOR SECONDARY SCHOOL          Available   \n",
       "\n",
       "  AvailableBooksCount IsFireExtgAvailable ExtinguisherCount HOIRoomAvailable  \\\n",
       "0                 100           Available                 2        Available   \n",
       "1                   0           Available                 5        Available   \n",
       "\n",
       "  IsStaffRoomAvailable NoofStaffRoom IsLockerForStaffAvailable  \\\n",
       "0            Available             1             Not Available   \n",
       "1            Available             2             Not Available   \n",
       "\n",
       "  IsSportsStoreRoomAvailable  \n",
       "0              Not Available  \n",
       "1                  Available  \n",
       "\n",
       "[2 rows x 43 columns]"
      ]
     },
     "execution_count": 14,
     "metadata": {},
     "output_type": "execute_result"
    }
   ],
   "source": [
    "# Join the two tables together (school_details and school_facility_details). Start by displaying all of the columns, but limit the resulting rows to just 2.\n",
    "sql = \"\"\"\n",
    "SELECT *\n",
    "FROM school_details as sd\n",
    "JOIN school_facility_details as sfd\n",
    "WHERE sd.EstablishmentCode = sfd.EstablishmentCode\n",
    "LIMIT 2\n",
    "\"\"\"\n",
    "# Read the sql query into pandas to view the results\n",
    "df = pd.read_sql_query(sql, engine)\n",
    "df"
   ]
  },
  {
   "cell_type": "markdown",
   "metadata": {
    "id": "gd-UyvdTEu13"
   },
   "source": [
    "Now, select just the schools where the SchoolLevel is \"PS\" that do not have libraries."
   ]
  },
  {
   "cell_type": "code",
   "execution_count": 15,
   "metadata": {
    "colab": {
     "base_uri": "https://localhost:8080/",
     "height": 855
    },
    "id": "XomzXHigEvvx",
    "outputId": "37b3e9e8-479f-4fa6-df9c-eedeaabbb113"
   },
   "outputs": [
    {
     "name": "stdout",
     "output_type": "stream",
     "text": [
      "2023-07-17 11:18:02,270 INFO sqlalchemy.engine.Engine \n",
      "SELECT *\n",
      "FROM school_details as sd\n",
      "JOIN school_facility_details as sfd\n",
      "WHERE sd.EstablishmentCode = sfd.EstablishmentCode AND sd.SchoolLevel = \"PS\" AND sfd.IsLibraryAvailable = \"Not Available\"\n",
      "\n",
      "2023-07-17 11:18:02,274 INFO sqlalchemy.engine.Engine [raw sql] ()\n"
     ]
    },
    {
     "data": {
      "text/html": [
       "<div>\n",
       "<style scoped>\n",
       "    .dataframe tbody tr th:only-of-type {\n",
       "        vertical-align: middle;\n",
       "    }\n",
       "\n",
       "    .dataframe tbody tr th {\n",
       "        vertical-align: top;\n",
       "    }\n",
       "\n",
       "    .dataframe thead th {\n",
       "        text-align: right;\n",
       "    }\n",
       "</style>\n",
       "<table border=\"1\" class=\"dataframe\">\n",
       "  <thead>\n",
       "    <tr style=\"text-align: right;\">\n",
       "      <th></th>\n",
       "      <th>index</th>\n",
       "      <th>DistrictName</th>\n",
       "      <th>EstablishmentCode</th>\n",
       "      <th>EstablishmentName</th>\n",
       "      <th>BRCName</th>\n",
       "      <th>CRCName</th>\n",
       "      <th>SchoolLevel</th>\n",
       "      <th>ManagementName</th>\n",
       "      <th>LocalityHabitation</th>\n",
       "      <th>SubdivisionName</th>\n",
       "      <th>...</th>\n",
       "      <th>EstablishmentName</th>\n",
       "      <th>IsLibraryAvailable</th>\n",
       "      <th>AvailableBooksCount</th>\n",
       "      <th>IsFireExtgAvailable</th>\n",
       "      <th>ExtinguisherCount</th>\n",
       "      <th>HOIRoomAvailable</th>\n",
       "      <th>IsStaffRoomAvailable</th>\n",
       "      <th>NoofStaffRoom</th>\n",
       "      <th>IsLockerForStaffAvailable</th>\n",
       "      <th>IsSportsStoreRoomAvailable</th>\n",
       "    </tr>\n",
       "  </thead>\n",
       "  <tbody>\n",
       "    <tr>\n",
       "      <th>0</th>\n",
       "      <td>5</td>\n",
       "      <td>East</td>\n",
       "      <td>S0856</td>\n",
       "      <td>EASWARAMMA SAI GURUKOOL ACCADEMY</td>\n",
       "      <td>Duga Brc</td>\n",
       "      <td>Central Pendam Government Senior Secondary School</td>\n",
       "      <td>PS</td>\n",
       "      <td>Private (Unaided)</td>\n",
       "      <td>RALUNG</td>\n",
       "      <td>Gangtok</td>\n",
       "      <td>...</td>\n",
       "      <td>EASWARAMMA SAI GURUKOOL ACCADEMY</td>\n",
       "      <td>Not Available</td>\n",
       "      <td>0</td>\n",
       "      <td>Available</td>\n",
       "      <td>2</td>\n",
       "      <td>Available</td>\n",
       "      <td>Not Available</td>\n",
       "      <td>0</td>\n",
       "      <td>Not Available</td>\n",
       "      <td>Not Available</td>\n",
       "    </tr>\n",
       "    <tr>\n",
       "      <th>1</th>\n",
       "      <td>8</td>\n",
       "      <td>East</td>\n",
       "      <td>S0876</td>\n",
       "      <td>NEW GARDEN BOARDING SCHOOL (SAJONG)</td>\n",
       "      <td>Duga Brc</td>\n",
       "      <td>Central Pendam Government Senior Secondary School</td>\n",
       "      <td>PS</td>\n",
       "      <td>Private (Unaided)</td>\n",
       "      <td>CENTRAL PENDAM</td>\n",
       "      <td>Gangtok</td>\n",
       "      <td>...</td>\n",
       "      <td>NEW GARDEN BOARDING SCHOOL (SAJONG)</td>\n",
       "      <td>Not Available</td>\n",
       "      <td>0</td>\n",
       "      <td>Not Available</td>\n",
       "      <td>0</td>\n",
       "      <td>Not Available</td>\n",
       "      <td>Not Available</td>\n",
       "      <td>0</td>\n",
       "      <td>Not Available</td>\n",
       "      <td>Available</td>\n",
       "    </tr>\n",
       "    <tr>\n",
       "      <th>2</th>\n",
       "      <td>15</td>\n",
       "      <td>East</td>\n",
       "      <td>S1230</td>\n",
       "      <td>SARASWATI SHISHU VIDHYALAYA, BUDANG</td>\n",
       "      <td>Duga Brc</td>\n",
       "      <td>Central Pendam Government Senior Secondary School</td>\n",
       "      <td>PS</td>\n",
       "      <td>Private (Unaided)</td>\n",
       "      <td>CENTRAL PENDAM</td>\n",
       "      <td>Gangtok</td>\n",
       "      <td>...</td>\n",
       "      <td>SARASWATI SHISHU VIDHYALAYA, BUDANG</td>\n",
       "      <td>Not Available</td>\n",
       "      <td>0</td>\n",
       "      <td>Not Available</td>\n",
       "      <td>0</td>\n",
       "      <td>Not Available</td>\n",
       "      <td>Available</td>\n",
       "      <td>1</td>\n",
       "      <td>Not Available</td>\n",
       "      <td>Not Available</td>\n",
       "    </tr>\n",
       "    <tr>\n",
       "      <th>3</th>\n",
       "      <td>16</td>\n",
       "      <td>East</td>\n",
       "      <td>S0768</td>\n",
       "      <td>SAWNEY GOVERNMENT PRIMARY SCHOOL</td>\n",
       "      <td>Duga Brc</td>\n",
       "      <td>Central Pendam Government Senior Secondary School</td>\n",
       "      <td>PS</td>\n",
       "      <td>State Govt.</td>\n",
       "      <td>SAWNEY</td>\n",
       "      <td>Gangtok</td>\n",
       "      <td>...</td>\n",
       "      <td>SAWNEY GOVERNMENT PRIMARY SCHOOL</td>\n",
       "      <td>Not Available</td>\n",
       "      <td>0</td>\n",
       "      <td>Available</td>\n",
       "      <td>1</td>\n",
       "      <td>Available</td>\n",
       "      <td>Available</td>\n",
       "      <td>1</td>\n",
       "      <td>Not Available</td>\n",
       "      <td>Not Available</td>\n",
       "    </tr>\n",
       "    <tr>\n",
       "      <th>4</th>\n",
       "      <td>20</td>\n",
       "      <td>East</td>\n",
       "      <td>S0131</td>\n",
       "      <td>UPPER PACHAK GOVERNMENT PRIMARY SCHOOL</td>\n",
       "      <td>Duga Brc</td>\n",
       "      <td>Central Pendam Government Senior Secondary School</td>\n",
       "      <td>PS</td>\n",
       "      <td>State Govt.</td>\n",
       "      <td>UPPER PACHAK</td>\n",
       "      <td>Gangtok</td>\n",
       "      <td>...</td>\n",
       "      <td>UPPER PACHAK GOVERNMENT PRIMARY SCHOOL</td>\n",
       "      <td>Not Available</td>\n",
       "      <td>0</td>\n",
       "      <td>Available</td>\n",
       "      <td>1</td>\n",
       "      <td>Not Available</td>\n",
       "      <td>Available</td>\n",
       "      <td>1</td>\n",
       "      <td>Not Available</td>\n",
       "      <td>Not Available</td>\n",
       "    </tr>\n",
       "  </tbody>\n",
       "</table>\n",
       "<p>5 rows × 43 columns</p>\n",
       "</div>"
      ],
      "text/plain": [
       "   index DistrictName EstablishmentCode  \\\n",
       "0      5         East             S0856   \n",
       "1      8         East             S0876   \n",
       "2     15         East             S1230   \n",
       "3     16         East             S0768   \n",
       "4     20         East             S0131   \n",
       "\n",
       "                        EstablishmentName   BRCName  \\\n",
       "0        EASWARAMMA SAI GURUKOOL ACCADEMY  Duga Brc   \n",
       "1     NEW GARDEN BOARDING SCHOOL (SAJONG)  Duga Brc   \n",
       "2     SARASWATI SHISHU VIDHYALAYA, BUDANG  Duga Brc   \n",
       "3        SAWNEY GOVERNMENT PRIMARY SCHOOL  Duga Brc   \n",
       "4  UPPER PACHAK GOVERNMENT PRIMARY SCHOOL  Duga Brc   \n",
       "\n",
       "                                             CRCName SchoolLevel  \\\n",
       "0  Central Pendam Government Senior Secondary School          PS   \n",
       "1  Central Pendam Government Senior Secondary School          PS   \n",
       "2  Central Pendam Government Senior Secondary School          PS   \n",
       "3  Central Pendam Government Senior Secondary School          PS   \n",
       "4  Central Pendam Government Senior Secondary School          PS   \n",
       "\n",
       "      ManagementName LocalityHabitation SubdivisionName  ...  \\\n",
       "0  Private (Unaided)             RALUNG         Gangtok  ...   \n",
       "1  Private (Unaided)     CENTRAL PENDAM         Gangtok  ...   \n",
       "2  Private (Unaided)     CENTRAL PENDAM         Gangtok  ...   \n",
       "3        State Govt.             SAWNEY         Gangtok  ...   \n",
       "4        State Govt.       UPPER PACHAK         Gangtok  ...   \n",
       "\n",
       "                        EstablishmentName IsLibraryAvailable  \\\n",
       "0        EASWARAMMA SAI GURUKOOL ACCADEMY      Not Available   \n",
       "1     NEW GARDEN BOARDING SCHOOL (SAJONG)      Not Available   \n",
       "2     SARASWATI SHISHU VIDHYALAYA, BUDANG      Not Available   \n",
       "3        SAWNEY GOVERNMENT PRIMARY SCHOOL      Not Available   \n",
       "4  UPPER PACHAK GOVERNMENT PRIMARY SCHOOL      Not Available   \n",
       "\n",
       "  AvailableBooksCount IsFireExtgAvailable ExtinguisherCount HOIRoomAvailable  \\\n",
       "0                   0           Available                 2        Available   \n",
       "1                   0       Not Available                 0    Not Available   \n",
       "2                   0       Not Available                 0    Not Available   \n",
       "3                   0           Available                 1        Available   \n",
       "4                   0           Available                 1    Not Available   \n",
       "\n",
       "  IsStaffRoomAvailable NoofStaffRoom IsLockerForStaffAvailable  \\\n",
       "0        Not Available             0             Not Available   \n",
       "1        Not Available             0             Not Available   \n",
       "2            Available             1             Not Available   \n",
       "3            Available             1             Not Available   \n",
       "4            Available             1             Not Available   \n",
       "\n",
       "  IsSportsStoreRoomAvailable  \n",
       "0              Not Available  \n",
       "1                  Available  \n",
       "2              Not Available  \n",
       "3              Not Available  \n",
       "4              Not Available  \n",
       "\n",
       "[5 rows x 43 columns]"
      ]
     },
     "execution_count": 15,
     "metadata": {},
     "output_type": "execute_result"
    }
   ],
   "source": [
    "# Now, select just the schools where the SchoolLevel is \"PS\" that do not have libraries.\n",
    "sql = \"\"\"\n",
    "SELECT *\n",
    "FROM school_details as sd\n",
    "JOIN school_facility_details as sfd\n",
    "WHERE sd.EstablishmentCode = sfd.EstablishmentCode AND sd.SchoolLevel = \"PS\" AND sfd.IsLibraryAvailable = \"Not Available\"\n",
    "\"\"\"\n",
    "# Read the sql query into pandas to view the results\n",
    "df = pd.read_sql_query(sql, engine)\n",
    "df.head()"
   ]
  },
  {
   "cell_type": "markdown",
   "metadata": {
    "id": "cnUPE2NfQ3Ih"
   },
   "source": [
    "**Your Turn**"
   ]
  },
  {
   "cell_type": "markdown",
   "metadata": {
    "id": "PfDTbnH2FqTV"
   },
   "source": [
    "Build off the previous query, but order the results alphabetically by name."
   ]
  },
  {
   "cell_type": "code",
   "execution_count": 14,
   "metadata": {
    "id": "IAYI2cn2FzNJ"
   },
   "outputs": [],
   "source": [
    "# Build off the previous query, but order the results alphabetically by name.\n",
    "\n",
    "\n",
    "\n",
    "# Read the sql query into pandas to view the results\n",
    "\n",
    "\n",
    "\n"
   ]
  },
  {
   "cell_type": "code",
   "execution_count": null,
   "metadata": {},
   "outputs": [],
   "source": []
  }
 ],
 "metadata": {
  "colab": {
   "provenance": []
  },
  "kernelspec": {
   "display_name": "Python 3 (ipykernel)",
   "language": "python",
   "name": "python3"
  },
  "language_info": {
   "codemirror_mode": {
    "name": "ipython",
    "version": 3
   },
   "file_extension": ".py",
   "mimetype": "text/x-python",
   "name": "python",
   "nbconvert_exporter": "python",
   "pygments_lexer": "ipython3",
   "version": "3.8.13"
  },
  "toc": {
   "base_numbering": 1,
   "nav_menu": {},
   "number_sections": true,
   "sideBar": true,
   "skip_h1_title": false,
   "title_cell": "Table of Contents",
   "title_sidebar": "Contents",
   "toc_cell": false,
   "toc_position": {},
   "toc_section_display": true,
   "toc_window_display": false
  }
 },
 "nbformat": 4,
 "nbformat_minor": 1
}
